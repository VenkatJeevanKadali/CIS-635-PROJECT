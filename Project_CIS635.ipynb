{
  "nbformat": 4,
  "nbformat_minor": 0,
  "metadata": {
    "colab": {
      "provenance": []
    },
    "kernelspec": {
      "name": "python3",
      "display_name": "Python 3"
    },
    "language_info": {
      "name": "python"
    }
  },
  "cells": [
    {
      "cell_type": "code",
      "execution_count": 2,
      "metadata": {
        "colab": {
          "base_uri": "https://localhost:8080/",
          "height": 466
        },
        "id": "62OKE1r4mCq-",
        "outputId": "571b83f7-d6ca-495c-f3ef-e57660f33662",
        "collapsed": true
      },
      "outputs": [
        {
          "output_type": "execute_result",
          "data": {
            "text/plain": [
              "<Axes: xlabel='label', ylabel='count'>"
            ]
          },
          "metadata": {},
          "execution_count": 2
        },
        {
          "output_type": "display_data",
          "data": {
            "text/plain": [
              "<Figure size 640x480 with 1 Axes>"
            ],
            "image/png": "[encoded data removed]"
          },
          "metadata": {}
        }
      ],
      "source": [
        "# The first few lines import the necessary libraries for data manipulation, visualization, and machine learning modeling.\n",
        "\n",
        "# The pd.read_csv() function is used to load the dataset into a pandas DataFrame object called df.\n",
        "\n",
        "# The df.drop_duplicates(inplace=True) line drops any duplicate rows in the dataset, with the inplace=True argument meaning the changes are made to the original DataFrame.\n",
        "\n",
        "# The df.dropna(inplace=True) line drops any rows with missing values (i.e., NaNs), with the inplace=True argument meaning the changes are made to the original DataFrame.\n",
        "\n",
        "# The df[\"label_num\"] = df[\"label\"].map({\"ham\": 0, \"spam\": 1}) line creates a new column called label_num in the DataFrame, which maps the values of the original label column to numerical values (0 for \"ham\" and 1 for \"spam\").\n",
        "\n",
        "# The sns.countplot(x=\"label\", data=df) line creates a bar plot of the distribution of the label column in the DataFrame, showing the number of \"ham\" and \"spam\" messages. The x=\"label\" argument specifies that the label column should be used as the x-axis variable, and the data=df argument specifies the DataFrame to use.\n",
        "\n",
        "# Import necessary libraries\n",
        "import pandas as pd\n",
        "import numpy as np\n",
        "import matplotlib.pyplot as plt\n",
        "import seaborn as sns\n",
        "import string\n",
        "import re\n",
        "import nltk\n",
        "from nltk.corpus import stopwords\n",
        "from sklearn.model_selection import train_test_split, GridSearchCV\n",
        "from sklearn.feature_extraction.text import CountVectorizer, TfidfVectorizer\n",
        "from sklearn.naive_bayes import MultinomialNB\n",
        "from sklearn.svm import SVC\n",
        "from sklearn.ensemble import RandomForestClassifier, GradientBoostingClassifier\n",
        "from sklearn.metrics import accuracy_score, precision_score, recall_score, f1_score, classification_report, confusion_matrix\n",
        "\n",
        "# Load the dataset\n",
        "df = pd.read_csv(\"spam_ham_dataset.csv\")\n",
        "\n",
        "# Drop duplicates and missing values\n",
        "df.drop_duplicates(inplace=True)\n",
        "df.dropna(inplace=True)\n",
        "\n",
        "# Convert the label column to numerical values (0 for ham, 1 for spam)\n",
        "df[\"label_num\"] = df[\"label\"].map({\"ham\": 0, \"spam\": 1})\n",
        "\n",
        "# Visualize the distribution of labels\n",
        "sns.countplot(x=\"label\", data=df)\n",
        "\n"
      ]
    },
    {
      "cell_type": "code",
      "source": [
        "# Split the data into training and testing sets\n",
        "X_train, X_test, y_train, y_test = train_test_split(df[\"text\"], df[\"label_num\"], test_size=0.2, random_state=42)\n",
        "\n",
        "# Text preprocessing\n",
        "def preprocess_text(text):\n",
        "    # Convert to lowercase\n",
        "    text = text.lower()\n",
        "    # Remove punctuations\n",
        "    text = \"\".join([char for char in text if char not in string.punctuation])\n",
        "    # Tokenize the text\n",
        "    tokens = re.split(\"\\W+\", text)\n",
        "    # Remove stopwords\n",
        "    text = [word for word in tokens if word not in stopwords]\n",
        "    # Join the text back into a string\n",
        "    text = \" \".join(text)\n",
        "    return text\n",
        "\n",
        "# Define the stopwords\n",
        "import nltk\n",
        "nltk.download('stopwords')\n",
        "stopwords = nltk.corpus.stopwords.words(\"english\")\n",
        "\n",
        "# Apply text preprocessing to the training and testing sets\n",
        "X_train = X_train.apply(preprocess_text)\n",
        "X_test = X_test.apply(preprocess_text)\n",
        "\n",
        "# Feature engineering using CountVectorizer\n",
        "cv = CountVectorizer(ngram_range=(1,2), min_df=5)\n",
        "X_train_cv = cv.fit_transform(X_train)\n",
        "X_test_cv = cv.transform(X_test)\n",
        "\n",
        "# Feature engineering using TF-IDF Vectorizer\n",
        "tfidf = TfidfVectorizer(ngram_range=(1,2), min_df=5)\n",
        "X_train_tfidf = tfidf.fit_transform(X_train)\n",
        "X_test_tfidf = tfidf.transform(X_test)\n",
        "\n",
        "\n"
      ],
      "metadata": {
        "id": "1tdeZL5W8NSS",
        "colab": {
          "base_uri": "https://localhost:8080/"
        },
        "outputId": "8fd0b3a3-354a-4777-d8f0-f3c5aba2d5fa"
      },
      "execution_count": 4,
      "outputs": [
        {
          "output_type": "stream",
          "name": "stderr",
          "text": [
            "[nltk_data] Downloading package stopwords to /root/nltk_data...\n",
            "[nltk_data]   Unzipping corpora/stopwords.zip.\n"
          ]
        }
      ]
    },
    {
      "cell_type": "code",
      "source": [
        "# The first line creates a new instance of the MultinomialNB class, which is a machine learning model for text classification.\n",
        "\n",
        "# The nb_cv.fit(X_train_cv, y_train) line trains the nb_cv model on the training data, where X_train_cv is the training set of text data converted to a matrix of token counts using the CountVectorizer method, and y_train is the corresponding training set of labels (i.e., \"ham\" or \"spam\").\n",
        "\n",
        "# The y_pred_cv = nb_cv.predict(X_test_cv) line uses the trained model to predict the labels for the test set of text data, where X_test_cv is the test set of text data converted to a matrix of token counts using the same CountVectorizer method as the training set.\n",
        "\n",
        "# The next four lines compute various evaluation metrics for the model's performance on the test set: accuracy_cv is the accuracy score, precision_cv is the precision score, recall_cv is the recall score, and f1_cv is the F1 score. These metrics provide different measures of the model's performance, such as how many of the predicted spam messages were actually spam (precision), how many of the actual spam messages were correctly identified (recall), and the balance between precision and recall (F1 score).\n",
        "\n",
        "# The last two lines print the evaluation metrics for the model using the print() function, which displays the output to the console. The first line prints the model name and the second line prints the evaluation metrics themselves.\n",
        "\n",
        "# Train and evaluate a Multinomial Naive Bayes classifier with CountVectorizer\n",
        "nb_cv = MultinomialNB()\n",
        "nb_cv.fit(X_train_cv, y_train)\n",
        "y_pred_cv = nb_cv.predict(X_test_cv)\n",
        "accuracy_cv = accuracy_score(y_test, y_pred_cv)\n",
        "precision_cv = precision_score(y_test, y_pred_cv)\n",
        "recall_cv = recall_score(y_test, y_pred_cv)\n",
        "f1_cv = f1_score(y_test, y_pred_cv)\n",
        "print(\"Multinomial Naive Bayes with CountVectorizer:\")\n",
        "print(\"Accuracy:\", accuracy_cv)\n",
        "print(\"Precision:\", precision_cv)\n",
        "print(\"Recall:\", recall_cv)\n",
        "print(\"F1 Score:\", f1_cv)"
      ],
      "metadata": {
        "id": "0EmracJZ8QyG",
        "colab": {
          "base_uri": "https://localhost:8080/"
        },
        "outputId": "ebe6e445-1b3b-48da-97dc-9197a49feaf9"
      },
      "execution_count": 5,
      "outputs": [
        {
          "output_type": "stream",
          "name": "stdout",
          "text": [
            "Multinomial Naive Bayes with CountVectorizer:\n",
            "Accuracy: 0.9584541062801932\n",
            "Precision: 0.9006410256410257\n",
            "Recall: 0.9590443686006825\n",
            "F1 Score: 0.9289256198347107\n"
          ]
        }
      ]
    }
  ]
}